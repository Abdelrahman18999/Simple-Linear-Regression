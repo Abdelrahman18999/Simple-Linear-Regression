{
 "cells": [
  {
   "cell_type": "markdown",
   "metadata": {
    "id": "xUpRxwRXPhPT"
   },
   "source": [
    "# FOLLOW THESE STEPS "
   ]
  },
  {
   "cell_type": "markdown",
   "metadata": {
    "id": "xMowuyWPIUmV"
   },
   "source": [
    "**First** : Let me Put You on the Road.\n",
    "\n",
    "If you are using Google Colab please Execute the following Code in next Cell  , so you will give the Permission for Google Colab to Access your folders in Google Drive \n",
    "\n",
    "***DO NOT RUN IT IF YOU ARE ON JUPYTER ***"
   ]
  },
  {
   "cell_type": "code",
   "execution_count": 1,
   "metadata": {
    "colab": {
     "base_uri": "https://localhost:8080/"
    },
    "id": "XgNXJOnPwkoG",
    "outputId": "f48418e9-c271-4b4f-814e-7377fce3c084"
   },
   "outputs": [
    {
     "name": "stdout",
     "output_type": "stream",
     "text": [
      "Mounted at /content/drive\n"
     ]
    }
   ],
   "source": [
    "from google.colab import drive\n",
    "drive.mount('/content/drive')"
   ]
  },
  {
   "cell_type": "code",
   "execution_count": 3,
   "metadata": {
    "id": "1QVgZfwMYJxt"
   },
   "outputs": [],
   "source": [
    "import os\n",
    "os.chdir('drive/My Drive/datasets')"
   ]
  },
  {
   "cell_type": "code",
   "execution_count": 4,
   "metadata": {
    "colab": {
     "base_uri": "https://localhost:8080/"
    },
    "id": "x9803BLlYWGy",
    "outputId": "b4a1a354-cdbc-463e-f705-a20674896c7f"
   },
   "outputs": [
    {
     "name": "stdout",
     "output_type": "stream",
     "text": [
      "Insurance.xls\n"
     ]
    }
   ],
   "source": [
    "!ls"
   ]
  },
  {
   "cell_type": "markdown",
   "metadata": {
    "id": "PXWREjgWJGw7"
   },
   "source": [
    "**Second**  Let's Install Our Dependencies \n",
    "`xlrd` is used for  Reading Excel Files \n"
   ]
  },
  {
   "cell_type": "code",
   "execution_count": 5,
   "metadata": {
    "colab": {
     "base_uri": "https://localhost:8080/"
    },
    "id": "evnl_eAd3Xam",
    "outputId": "27de6834-edc7-4e83-a22e-f42a0e396c36"
   },
   "outputs": [
    {
     "name": "stdout",
     "output_type": "stream",
     "text": [
      "Requirement already satisfied: xlrd in /usr/local/lib/python3.7/dist-packages (1.1.0)\n"
     ]
    }
   ],
   "source": [
    "!pip install xlrd"
   ]
  },
  {
   "cell_type": "markdown",
   "metadata": {
    "id": "o2Bx7sKsJYcr"
   },
   "source": [
    "**Third** : Let's Now Import the Packages that we are going to use "
   ]
  },
  {
   "cell_type": "code",
   "execution_count": 6,
   "metadata": {
    "id": "D3bk89gcYR8m"
   },
   "outputs": [],
   "source": [
    "import numpy as np   # For Matrices Manipulations\n",
    "import pandas as pd  # For Data frames etc \n",
    "import xlrd  # For Excel Files\n",
    "import os   # For Changing to the Correct Directory "
   ]
  },
  {
   "cell_type": "code",
   "execution_count": 7,
   "metadata": {
    "colab": {
     "base_uri": "https://localhost:8080/"
    },
    "id": "BQq0QjKBzzjc",
    "outputId": "91492ac1-d218-4d32-901b-9ba7c07d83f2"
   },
   "outputs": [
    {
     "name": "stdout",
     "output_type": "stream",
     "text": [
      "Insurance.xls\n"
     ]
    }
   ],
   "source": [
    "!ls            #  its an Order to List all files in the Current Directory You are in "
   ]
  },
  {
   "cell_type": "code",
   "execution_count": null,
   "metadata": {
    "id": "sKlAh0EXzuav"
   },
   "outputs": [],
   "source": [
    "os.chdir('drive/My Drive/.............. ????')       # Try to fix this to  the Correct path So you can find The file"
   ]
  },
  {
   "cell_type": "markdown",
   "metadata": {
    "id": "cwzEZCAtLX57"
   },
   "source": [
    "**Forth** :  Type a Code to Read  The Excel File \n",
    "hint go and use `pd.read_excel`"
   ]
  },
  {
   "cell_type": "code",
   "execution_count": 8,
   "metadata": {
    "colab": {
     "base_uri": "https://localhost:8080/",
     "height": 221
    },
    "id": "WX5s6BsA1CtE",
    "outputId": "7d67b203-6842-45ce-ab1e-6b0f8e18ef07"
   },
   "outputs": [
    {
     "name": "stdout",
     "output_type": "stream",
     "text": [
      "*** No CODEPAGE record, no encoding_override: will use 'ascii'\n"
     ]
    },
    {
     "data": {
      "text/html": [
       "<div>\n",
       "<style scoped>\n",
       "    .dataframe tbody tr th:only-of-type {\n",
       "        vertical-align: middle;\n",
       "    }\n",
       "\n",
       "    .dataframe tbody tr th {\n",
       "        vertical-align: top;\n",
       "    }\n",
       "\n",
       "    .dataframe thead th {\n",
       "        text-align: right;\n",
       "    }\n",
       "</style>\n",
       "<table border=\"1\" class=\"dataframe\">\n",
       "  <thead>\n",
       "    <tr style=\"text-align: right;\">\n",
       "      <th></th>\n",
       "      <th>X</th>\n",
       "      <th>Y</th>\n",
       "    </tr>\n",
       "  </thead>\n",
       "  <tbody>\n",
       "    <tr>\n",
       "      <th>0</th>\n",
       "      <td>108</td>\n",
       "      <td>392.5</td>\n",
       "    </tr>\n",
       "    <tr>\n",
       "      <th>1</th>\n",
       "      <td>19</td>\n",
       "      <td>46.2</td>\n",
       "    </tr>\n",
       "    <tr>\n",
       "      <th>2</th>\n",
       "      <td>13</td>\n",
       "      <td>15.7</td>\n",
       "    </tr>\n",
       "    <tr>\n",
       "      <th>3</th>\n",
       "      <td>124</td>\n",
       "      <td>422.2</td>\n",
       "    </tr>\n",
       "    <tr>\n",
       "      <th>4</th>\n",
       "      <td>40</td>\n",
       "      <td>119.4</td>\n",
       "    </tr>\n",
       "  </tbody>\n",
       "</table>\n",
       "</div>"
      ],
      "text/plain": [
       "     X      Y\n",
       "0  108  392.5\n",
       "1   19   46.2\n",
       "2   13   15.7\n",
       "3  124  422.2\n",
       "4   40  119.4"
      ]
     },
     "execution_count": 8,
     "metadata": {},
     "output_type": "execute_result"
    }
   ],
   "source": [
    "df= pd.read_excel(\"Insurance.xls\")\n",
    "df.head()"
   ]
  },
  {
   "cell_type": "markdown",
   "metadata": {
    "id": "ndOyFGg0LVDV"
   },
   "source": [
    "So this Data is about:-\n",
    "\n",
    "Auto Insurance in Sweden\n",
    "In the following data\n",
    "\n",
    "X = number of claims\n",
    "\n",
    "Y = total payment for all the claims in thousands of Swedish Kronor\n",
    "\n",
    "for geographical zones in Sweden\n",
    "Reference: Swedish Committee on Analysis of Risk Premium in Motor Insurance\n",
    "\n"
   ]
  },
  {
   "cell_type": "markdown",
   "metadata": {
    "id": "N_1kH03mMHYD"
   },
   "source": [
    "**Fifth** Type a Code  that Change the Features and Labels  from pandas frame into Numpy Arrays.\n",
    "\n",
    "*40 rows only* for **Training** and the Rest for **Testing**\n",
    "hint : use `df.iloc` ,`.values` "
   ]
  },
  {
   "cell_type": "code",
   "execution_count": 9,
   "metadata": {
    "id": "bVXC5ZIz3u1N"
   },
   "outputs": [],
   "source": [
    "X_train= df.iloc[:40, 0] \n",
    "y_train= df.iloc[:40, 1]\n",
    "X_test= df.iloc[40:, 0]\n",
    "y_test= df.iloc[40:, 0]"
   ]
  },
  {
   "cell_type": "markdown",
   "metadata": {
    "id": "2m8PtSPjNC3a"
   },
   "source": [
    "**Sixth** Check the Type and Size of the Arrays you created by Printing them.\n",
    "hint Go and use :  `shape` , `type` "
   ]
  },
  {
   "cell_type": "code",
   "execution_count": 10,
   "metadata": {
    "colab": {
     "base_uri": "https://localhost:8080/"
    },
    "id": "PzKkHDR2NYOr",
    "outputId": "7935a371-df10-487b-817b-5bb65f26e4ac"
   },
   "outputs": [
    {
     "name": "stdout",
     "output_type": "stream",
     "text": [
      "The Features to be trained on : (40,)\n",
      "The Labels to be trained on : (40,)\n",
      "The Features to be tested on : (23,)\n",
      "The Labels to be tested on : (23,)\n",
      "X_train type :  int64 X_test type : int64 y_train type : float64 y_test type : int64\n"
     ]
    }
   ],
   "source": [
    "print('The Features to be trained on :', X_train.shape)\n",
    "print('The Labels to be trained on :', y_train.shape)\n",
    "print('The Features to be tested on :', X_test.shape)\n",
    "print('The Labels to be tested on :', y_test.shape)\n",
    "print('X_train type : ', X_train.dtype, 'X_test type :',X_test.dtype ,'y_train type :', y_train.dtype , 'y_test type :', y_test.dtype )"
   ]
  },
  {
   "cell_type": "markdown",
   "metadata": {
    "id": "akZOUbc0OPhz"
   },
   "source": [
    "**Seventh** Let me do this for you  but watch me properly, its for Visualization."
   ]
  },
  {
   "cell_type": "code",
   "execution_count": 12,
   "metadata": {
    "colab": {
     "base_uri": "https://localhost:8080/",
     "height": 548
    },
    "id": "sRLlfsBf6Qex",
    "outputId": "fbce5664-bc18-4d82-e340-d51c45c6678a"
   },
   "outputs": [
    {
     "data": {
      "text/plain": [
       "<function matplotlib.pyplot.show>"
      ]
     },
     "execution_count": 12,
     "metadata": {},
     "output_type": "execute_result"
    },
    {
     "data": {
      "image/png": "[encoded data removed]",
      "text/plain": [
       "<Figure size 720x576 with 1 Axes>"
      ]
     },
     "metadata": {
      "needs_background": "light"
     },
     "output_type": "display_data"
    }
   ],
   "source": [
    "import matplotlib.pyplot as plt  # A Great Package For Plotting and Visualization\n",
    "plt.figure(figsize=(10,8))    # The Plotting Window Size\n",
    "plt.title(' Auto Insurance in Sweden', fontsize=24 , fontstyle='italic')  # Title , Font size and Style\n",
    "plt.xlabel('Number of claims', fontsize=20)   # Label of x axis\n",
    "plt.ylabel('Total payment in thousands', fontsize=20) # Label of y axis\n",
    "plt.scatter(X_train , y_train)  \n",
    "plt.show"
   ]
  },
  {
   "cell_type": "markdown",
   "metadata": {
    "id": "7Tn1oPkjO_oF"
   },
   "source": [
    "Hungry for Statistics ?\n",
    "Okey Let's Go for it, But Do you even remember the Expressions?"
   ]
  },
  {
   "cell_type": "markdown",
   "metadata": {
    "id": "-5GzNhIhP18j"
   },
   "source": [
    "**Eighth** ? I don't know how to type this  but i meant 8th\n",
    "Okey, Whatever Just Go and build a Function Mean Squared Error and call it `MSE()` That Takes a List of Actual Values and List of Predicted Values  then Returning the Mean Squared Error between them \n"
   ]
  },
  {
   "cell_type": "code",
   "execution_count": 13,
   "metadata": {
    "id": "P9idEk1rPzHD"
   },
   "outputs": [],
   "source": [
    "def MSE (actual, predicted):\n",
    "    '''\n",
    "    Input: * actual : List of Actual Data\n",
    "           * predicted: List of Predicted Data\n",
    "    Return: Mean Squared Error       \n",
    "    '''\n",
    "    squared_error = 0  # intialization by zero\n",
    "    for i in range(len(actual)) :\n",
    "        squared_error += (actual[i] - predicted[i])**2\n",
    "        return (squared_error / len(actual))"
   ]
  },
  {
   "cell_type": "markdown",
   "metadata": {
    "id": "_DLHOwjeQ_3d"
   },
   "source": [
    "**Ninth** Build  Following Functions:\n",
    "\n",
    "1- `Mean()`  its input :  Values ,  its Ouput : Mean of the Values.\n",
    "\n",
    "2- `Variance()` its input : Values, Mean , its Output : Variance of the Values.\n",
    "\n",
    "3- `Covariance()` its input : Values of X, X_mean , y_mean ,y, its Output : Covariance of X and Y.\n",
    "\n"
   ]
  },
  {
   "cell_type": "markdown",
   "metadata": {
    "id": "o6fdmt9N_YTS"
   },
   "source": [
    "![sdpopulation.png](data:image/png;base64,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)"
   ]
  },
  {
   "cell_type": "code",
   "execution_count": 14,
   "metadata": {
    "id": "fThEft4rUktb"
   },
   "outputs": [],
   "source": [
    "# Mean Function\n",
    "def Mean (values):\n",
    "    '''\n",
    "    Input: List of values\n",
    "    Output: Mean of these values\n",
    "    '''\n",
    "    return(sum(values) / len(values))\n",
    "\n",
    "# Variance Function\n",
    "def Variance(values, mean):\n",
    "    '''\n",
    "    Inputs : - List of values\n",
    "             - The mean of these values\n",
    "    Output : Variance of the values\n",
    "    '''\n",
    "    sum_diff = 0\n",
    "    for value in values :\n",
    "        sum_diff += (value - mean)**2\n",
    "    return(sum_diff / (len(values) - 1))\n",
    "    \n",
    "# Covariance Function\n",
    "def Covariance(x_values, y_values, x_mean, y_mean):\n",
    "    '''\n",
    "    Input: * x_values : List of Features\n",
    "           * y_values : List of Output Labels\n",
    "           * x_mean : Mean of Features\n",
    "           * y_mean : Mean of Output Labels\n",
    "    Return: Covariance of Data       \n",
    "    '''\n",
    "    sum_var= 0\n",
    "    for i in range(len(x_values)):\n",
    "        sum_var += (x_values[i]-x_mean)*(y_values[i]-y_mean)\n",
    "    return sum_var/(len(x_values)-1)"
   ]
  },
  {
   "cell_type": "markdown",
   "metadata": {
    "id": "0iBwSUvCUsva"
   },
   "source": [
    "**Tenth** : watch out for a Sensitive Point you now need to build a Function that will use  the Previous Functions to return the Co-efficents of the Best Fit Line  which  is Beta Zero and Beta One "
   ]
  },
  {
   "cell_type": "markdown",
   "metadata": {
    "id": "RwFMypL4MtLO"
   },
   "source": [
    "![Beta zero.png](data:image/png;base64,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)\n",
    "\n",
    "\n",
    "![Beta One.png](data:image/png;base64,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)\n",
    "\n",
    "Alternate way for Beta One \n",
    "\n",
    "\n",
    "![Beta One alternate.png](data:image/png;base64,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)"
   ]
  },
  {
   "cell_type": "code",
   "execution_count": 15,
   "metadata": {
    "id": "wT6RKZwgyEHs"
   },
   "outputs": [],
   "source": [
    "# Coefficents Function\n",
    "def Coefficents(cov, var_x, x_mean, y_mean):\n",
    "    '''\n",
    "    Input: * cov : Covariance of Data\n",
    "           * var_x : Variance of Data\n",
    "           * x_mean : Mean of Features\n",
    "           * y_mean : Mean of Output Labels\n",
    "    Return: Coefficents of Linear Equation       \n",
    "    '''\n",
    "    b1= cov/var_x\n",
    "    b0= y_mean - b1 * x_mean\n",
    "    return b0,b1"
   ]
  },
  {
   "cell_type": "markdown",
   "metadata": {
    "id": "UW1JGasUyPiC"
   },
   "source": [
    "**Eleventh**: Build a function  that will take the Input Training Data and Testing the Data , Then call the Co efficient Function with the Training Data to get the Co efficents then use it for Building the Best fit Line and return the Predictions of the Test set \n"
   ]
  },
  {
   "cell_type": "code",
   "execution_count": 16,
   "metadata": {
    "id": "EISmDwSiLqxu"
   },
   "outputs": [],
   "source": [
    "# Simple Linear Regression Function\n",
    "def SimpleLinearRegression(X_train, y_train, X_test):\n",
    "    '''\n",
    "    Input: * X_train : List of Training Features\n",
    "           * y_train : List of Training Labels\n",
    "           * X_test : List of Test Features\n",
    "    Return: List of Prediction for Test Features       \n",
    "    '''\n",
    "    x_mean = Mean(X_train)\n",
    "    y_mean = Mean(y_train)\n",
    "    x_var= Variance(X_train, x_mean)\n",
    "    cov= Covariance(X_train, y_train, x_mean, y_mean)\n",
    "    b0, b1= Coefficents(cov, x_var, x_mean, y_mean)\n",
    "    y_pred = b0 + X_test * b1\n",
    "    return y_pred"
   ]
  },
  {
   "cell_type": "markdown",
   "metadata": {
    "id": "r9G9YH-JL0jc"
   },
   "source": [
    "**Twelveth**: Finally Build a Function that Calls The `MSE` function and the `SimpleLineRegression` Function and use it to Print the Result as an Evaluation for the model"
   ]
  },
  {
   "cell_type": "code",
   "execution_count": 17,
   "metadata": {
    "id": "ak3WsQ6KM3w-"
   },
   "outputs": [],
   "source": [
    "# Evaluate Function\n",
    "def Evaluate (X_train, y_train, X_test, y_test):\n",
    "     '''\n",
    "    Input: * X_train : List of Training Features\n",
    "           * y_train : List of Training Labels\n",
    "           * X_test : List of Test Features\n",
    "           * y_test : List of Test Labels\n",
    "    Return: Mean Square Error of Prediction and Actual Test Labels       \n",
    "    '''\n",
    "    y_pred= SimpleLinearRegression(X_train, y_train, X_test) \n",
    "    return MSE(y_test, y_pred)"
   ]
  },
  {
   "cell_type": "markdown",
   "metadata": {
    "id": "lONNIZLeM_XT"
   },
   "source": [
    "Let me Now visualize your work for you ! Just help me with the Naming"
   ]
  },
  {
   "cell_type": "code",
   "execution_count": 20,
   "metadata": {
    "colab": {
     "base_uri": "https://localhost:8080/",
     "height": 545
    },
    "id": "H3OyI_SeY2pf",
    "outputId": "03241144-4d86-44d6-abc3-a821d873dac7"
   },
   "outputs": [
    {
     "data": {
      "text/plain": [
       "<function matplotlib.pyplot.show>"
      ]
     },
     "execution_count": 20,
     "metadata": {},
     "output_type": "execute_result"
    },
    {
     "data": {
      "image/png": "[encoded data removed]",
      "text/plain": [
       "<Figure size 720x576 with 1 Axes>"
      ]
     },
     "metadata": {
      "needs_background": "light"
     },
     "output_type": "display_data"
    }
   ],
   "source": [
    "plt.figure(figsize=(10,8))\n",
    "plt.title(' Linear Regression ', fontsize=20 , fontstyle='italic')\n",
    "plt.xlabel('Number of claims', fontsize=20)\n",
    "plt.ylabel('Total payment in thousands', fontsize=20)\n",
    "plt.plot(X_test, SimpleLinearRegression(X_train, y_train, X_test), linewidth=1.0)  \n",
    "plt.scatter(X_train ,y_train , alpha =1, label='Y')\n",
    "plt.show"
   ]
  },
  {
   "cell_type": "markdown",
   "metadata": {
    "id": "eu3O194UNdMc"
   },
   "source": [
    "\n",
    "# Thank You"
   ]
  }
 ],
 "metadata": {
  "colab": {
   "collapsed_sections": [],
   "name": "Simple Linear Regression.ipynb",
   "provenance": []
  },
  "kernelspec": {
   "display_name": "Python 3",
   "language": "python",
   "name": "python3"
  },
  "language_info": {
   "codemirror_mode": {
    "name": "ipython",
    "version": 3
   },
   "file_extension": ".py",
   "mimetype": "text/x-python",
   "name": "python",
   "nbconvert_exporter": "python",
   "pygments_lexer": "ipython3",
   "version": "3.8.8"
  }
 },
 "nbformat": 4,
 "nbformat_minor": 1
}
